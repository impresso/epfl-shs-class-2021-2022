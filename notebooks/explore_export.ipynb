{
 "cells": [
  {
   "cell_type": "markdown",
   "id": "a69f8267",
   "metadata": {},
   "source": [
    "# First steps in exploring/cleaning data export"
   ]
  },
  {
   "cell_type": "markdown",
   "id": "514d92f1",
   "metadata": {},
   "source": [
    "Importing the library we need"
   ]
  },
  {
   "cell_type": "code",
   "execution_count": 1,
   "id": "aeedef54",
   "metadata": {},
   "outputs": [],
   "source": [
    "import pandas as pd\n",
    "import os"
   ]
  },
  {
   "cell_type": "markdown",
   "id": "5a6117c2",
   "metadata": {},
   "source": [
    "Loading the file in a panda dataframe (a 2 dimensional data structure, or a table with rows and columns)."
   ]
  },
  {
   "cell_type": "code",
   "execution_count": 2,
   "id": "2a99fb8b",
   "metadata": {},
   "outputs": [],
   "source": [
    "my_export_file = \"../data/a9eeaf49-sample.csv\""
   ]
  },
  {
   "cell_type": "code",
   "execution_count": 3,
   "id": "bf773904",
   "metadata": {},
   "outputs": [],
   "source": [
    "df = pd.read_csv(my_export_file, sep=';', encoding='utf-8')"
   ]
  },
  {
   "cell_type": "code",
   "execution_count": 4,
   "id": "6446982a",
   "metadata": {},
   "outputs": [
    {
     "data": {
      "text/html": [
       "<div>\n",
       "<style scoped>\n",
       "    .dataframe tbody tr th:only-of-type {\n",
       "        vertical-align: middle;\n",
       "    }\n",
       "\n",
       "    .dataframe tbody tr th {\n",
       "        vertical-align: top;\n",
       "    }\n",
       "\n",
       "    .dataframe thead th {\n",
       "        text-align: right;\n",
       "    }\n",
       "</style>\n",
       "<table border=\"1\" class=\"dataframe\">\n",
       "  <thead>\n",
       "    <tr style=\"text-align: right;\">\n",
       "      <th></th>\n",
       "      <th>uid</th>\n",
       "      <th>type</th>\n",
       "      <th>language</th>\n",
       "      <th>title</th>\n",
       "      <th>size</th>\n",
       "      <th>country</th>\n",
       "      <th>newspaper</th>\n",
       "      <th>issue</th>\n",
       "      <th>pages</th>\n",
       "      <th>nb_pages</th>\n",
       "      <th>...</th>\n",
       "      <th>year</th>\n",
       "      <th>is_on_front</th>\n",
       "      <th>date</th>\n",
       "      <th>persons_mentioned</th>\n",
       "      <th>locations_mentioned</th>\n",
       "      <th>content</th>\n",
       "      <th>access_right</th>\n",
       "      <th>content_provider</th>\n",
       "      <th>is_content_available</th>\n",
       "      <th>[total:2705,available:2800]</th>\n",
       "    </tr>\n",
       "  </thead>\n",
       "  <tbody>\n",
       "    <tr>\n",
       "      <th>0</th>\n",
       "      <td>DTT-1951-06-05-a-i0039</td>\n",
       "      <td>NaN</td>\n",
       "      <td>de</td>\n",
       "      <td>Die OECE und die Schweiz</td>\n",
       "      <td>592</td>\n",
       "      <td>CH</td>\n",
       "      <td>DTT</td>\n",
       "      <td>DTT-1951-06-05-a</td>\n",
       "      <td>3</td>\n",
       "      <td>1</td>\n",
       "      <td>...</td>\n",
       "      <td>1951</td>\n",
       "      <td>False</td>\n",
       "      <td>1951-06-05T00:00:00Z</td>\n",
       "      <td>Gottfried Keller</td>\n",
       "      <td>Schweiz|Schweiz|Schweiz|Paris|Schweiz|Holland|...</td>\n",
       "      <td>Die OECE und die Schweiz Auf eine Kleine Anfra...</td>\n",
       "      <td>OpenPrivate</td>\n",
       "      <td>Migros</td>\n",
       "      <td>True</td>\n",
       "      <td>NaN</td>\n",
       "    </tr>\n",
       "    <tr>\n",
       "      <th>1</th>\n",
       "      <td>DTT-1951-01-11-a-i0031</td>\n",
       "      <td>NaN</td>\n",
       "      <td>de</td>\n",
       "      <td>Hjalmar Schacht in Abessinien Arnhem, 10...</td>\n",
       "      <td>58</td>\n",
       "      <td>CH</td>\n",
       "      <td>DTT</td>\n",
       "      <td>DTT-1951-01-11-a</td>\n",
       "      <td>2</td>\n",
       "      <td>1</td>\n",
       "      <td>...</td>\n",
       "      <td>1951</td>\n",
       "      <td>False</td>\n",
       "      <td>1951-01-11T00:00:00Z</td>\n",
       "      <td>Hjalmar Schacht|Hermann Abs|Kaiser Haue</td>\n",
       "      <td>Abessinien|Frankfurt|Abessinien</td>\n",
       "      <td>Hjalmar Schacht in Abessinien Arnhem , 10 . Ja...</td>\n",
       "      <td>OpenPrivate</td>\n",
       "      <td>Migros</td>\n",
       "      <td>True</td>\n",
       "      <td>NaN</td>\n",
       "    </tr>\n",
       "    <tr>\n",
       "      <th>2</th>\n",
       "      <td>DTT-1951-09-20-a-i0044</td>\n",
       "      <td>NaN</td>\n",
       "      <td>de</td>\n",
       "      <td>eingeführt, die zwei Jahre darauf unter ...</td>\n",
       "      <td>779</td>\n",
       "      <td>CH</td>\n",
       "      <td>DTT</td>\n",
       "      <td>DTT-1951-09-20-a</td>\n",
       "      <td>11</td>\n",
       "      <td>1</td>\n",
       "      <td>...</td>\n",
       "      <td>1951</td>\n",
       "      <td>False</td>\n",
       "      <td>1951-09-20T00:00:00Z</td>\n",
       "      <td>Rand der Rentabilitätsgrenze</td>\n",
       "      <td>Italien|Rom|Rom|Winterthur</td>\n",
       "      <td>eingeführt , die zwei Jahre darauf unter dem D...</td>\n",
       "      <td>OpenPrivate</td>\n",
       "      <td>Migros</td>\n",
       "      <td>True</td>\n",
       "      <td>NaN</td>\n",
       "    </tr>\n",
       "    <tr>\n",
       "      <th>3</th>\n",
       "      <td>DTT-1948-07-15-a-i0091</td>\n",
       "      <td>NaN</td>\n",
       "      <td>de</td>\n",
       "      <td>Holland: Ein neuer Kunstskandal Den Haag...</td>\n",
       "      <td>199</td>\n",
       "      <td>CH</td>\n",
       "      <td>DTT</td>\n",
       "      <td>DTT-1948-07-15-a</td>\n",
       "      <td>7</td>\n",
       "      <td>1</td>\n",
       "      <td>...</td>\n",
       "      <td>1948</td>\n",
       "      <td>False</td>\n",
       "      <td>1948-07-15T00:00:00Z</td>\n",
       "      <td>Wert von Tausenden</td>\n",
       "      <td>Holland|Sterling|Dieren|Deutschland</td>\n",
       "      <td>Holland : Ein neuer Kunstskandal Den Haag . ( ...</td>\n",
       "      <td>OpenPrivate</td>\n",
       "      <td>Migros</td>\n",
       "      <td>True</td>\n",
       "      <td>NaN</td>\n",
       "    </tr>\n",
       "    <tr>\n",
       "      <th>4</th>\n",
       "      <td>DTT-1945-10-10-a-i0004</td>\n",
       "      <td>NaN</td>\n",
       "      <td>de</td>\n",
       "      <td>Die ersten Nachkriegswahlen in Norwegen,...</td>\n",
       "      <td>2069</td>\n",
       "      <td>CH</td>\n",
       "      <td>DTT</td>\n",
       "      <td>DTT-1945-10-10-a</td>\n",
       "      <td>1</td>\n",
       "      <td>1</td>\n",
       "      <td>...</td>\n",
       "      <td>1945</td>\n",
       "      <td>True</td>\n",
       "      <td>1945-10-10T00:00:00Z</td>\n",
       "      <td>Pearl Harbour</td>\n",
       "      <td>Laval|Holland|Wahlen|London|Deutschland|Hollan...</td>\n",
       "      <td>Die ersten Nachkriegswahlen in Norwegen , Buda...</td>\n",
       "      <td>OpenPrivate</td>\n",
       "      <td>Migros</td>\n",
       "      <td>True</td>\n",
       "      <td>NaN</td>\n",
       "    </tr>\n",
       "  </tbody>\n",
       "</table>\n",
       "<p>5 rows × 21 columns</p>\n",
       "</div>"
      ],
      "text/plain": [
       "                      uid  type language  \\\n",
       "0  DTT-1951-06-05-a-i0039   NaN       de   \n",
       "1  DTT-1951-01-11-a-i0031   NaN       de   \n",
       "2  DTT-1951-09-20-a-i0044   NaN       de   \n",
       "3  DTT-1948-07-15-a-i0091   NaN       de   \n",
       "4  DTT-1945-10-10-a-i0004   NaN       de   \n",
       "\n",
       "                                         title  size country newspaper  \\\n",
       "0                     Die OECE und die Schweiz   592      CH       DTT   \n",
       "1  Hjalmar Schacht in Abessinien Arnhem, 10...    58      CH       DTT   \n",
       "2  eingeführt, die zwei Jahre darauf unter ...   779      CH       DTT   \n",
       "3  Holland: Ein neuer Kunstskandal Den Haag...   199      CH       DTT   \n",
       "4  Die ersten Nachkriegswahlen in Norwegen,...  2069      CH       DTT   \n",
       "\n",
       "              issue  pages  nb_pages  ...  year  is_on_front  \\\n",
       "0  DTT-1951-06-05-a      3         1  ...  1951        False   \n",
       "1  DTT-1951-01-11-a      2         1  ...  1951        False   \n",
       "2  DTT-1951-09-20-a     11         1  ...  1951        False   \n",
       "3  DTT-1948-07-15-a      7         1  ...  1948        False   \n",
       "4  DTT-1945-10-10-a      1         1  ...  1945         True   \n",
       "\n",
       "                   date                        persons_mentioned  \\\n",
       "0  1951-06-05T00:00:00Z                         Gottfried Keller   \n",
       "1  1951-01-11T00:00:00Z  Hjalmar Schacht|Hermann Abs|Kaiser Haue   \n",
       "2  1951-09-20T00:00:00Z             Rand der Rentabilitätsgrenze   \n",
       "3  1948-07-15T00:00:00Z                       Wert von Tausenden   \n",
       "4  1945-10-10T00:00:00Z                            Pearl Harbour   \n",
       "\n",
       "                                 locations_mentioned  \\\n",
       "0  Schweiz|Schweiz|Schweiz|Paris|Schweiz|Holland|...   \n",
       "1                    Abessinien|Frankfurt|Abessinien   \n",
       "2                         Italien|Rom|Rom|Winterthur   \n",
       "3                Holland|Sterling|Dieren|Deutschland   \n",
       "4  Laval|Holland|Wahlen|London|Deutschland|Hollan...   \n",
       "\n",
       "                                             content access_right  \\\n",
       "0  Die OECE und die Schweiz Auf eine Kleine Anfra...  OpenPrivate   \n",
       "1  Hjalmar Schacht in Abessinien Arnhem , 10 . Ja...  OpenPrivate   \n",
       "2  eingeführt , die zwei Jahre darauf unter dem D...  OpenPrivate   \n",
       "3  Holland : Ein neuer Kunstskandal Den Haag . ( ...  OpenPrivate   \n",
       "4  Die ersten Nachkriegswahlen in Norwegen , Buda...  OpenPrivate   \n",
       "\n",
       "  content_provider is_content_available  [total:2705,available:2800]  \n",
       "0           Migros                 True                          NaN  \n",
       "1           Migros                 True                          NaN  \n",
       "2           Migros                 True                          NaN  \n",
       "3           Migros                 True                          NaN  \n",
       "4           Migros                 True                          NaN  \n",
       "\n",
       "[5 rows x 21 columns]"
      ]
     },
     "execution_count": 4,
     "metadata": {},
     "output_type": "execute_result"
    }
   ],
   "source": [
    "# inspecting the data\n",
    "df.head()"
   ]
  },
  {
   "cell_type": "code",
   "execution_count": 5,
   "id": "ec777f1b",
   "metadata": {},
   "outputs": [
    {
     "data": {
      "text/plain": [
       "['uid',\n",
       " 'type',\n",
       " 'language',\n",
       " 'title',\n",
       " 'size',\n",
       " 'country',\n",
       " 'newspaper',\n",
       " 'issue',\n",
       " 'pages',\n",
       " 'nb_pages',\n",
       " 'relevance',\n",
       " 'year',\n",
       " 'is_on_front',\n",
       " 'date',\n",
       " 'persons_mentioned',\n",
       " 'locations_mentioned',\n",
       " 'content',\n",
       " 'access_right',\n",
       " 'content_provider',\n",
       " 'is_content_available',\n",
       " '[total:2705,available:2800]']"
      ]
     },
     "execution_count": 5,
     "metadata": {},
     "output_type": "execute_result"
    }
   ],
   "source": [
    "# which columns are there?\n",
    "list(df.columns)"
   ]
  },
  {
   "cell_type": "code",
   "execution_count": 6,
   "id": "7eb060dd",
   "metadata": {},
   "outputs": [
    {
     "name": "stdout",
     "output_type": "stream",
     "text": [
      "<class 'pandas.core.frame.DataFrame'>\n",
      "RangeIndex: 99 entries, 0 to 98\n",
      "Data columns (total 21 columns):\n",
      " #   Column                       Non-Null Count  Dtype  \n",
      "---  ------                       --------------  -----  \n",
      " 0   uid                          99 non-null     object \n",
      " 1   type                         0 non-null      float64\n",
      " 2   language                     99 non-null     object \n",
      " 3   title                        99 non-null     object \n",
      " 4   size                         99 non-null     int64  \n",
      " 5   country                      99 non-null     object \n",
      " 6   newspaper                    99 non-null     object \n",
      " 7   issue                        99 non-null     object \n",
      " 8   pages                        99 non-null     int64  \n",
      " 9   nb_pages                     99 non-null     int64  \n",
      " 10  relevance                    99 non-null     float64\n",
      " 11  year                         99 non-null     int64  \n",
      " 12  is_on_front                  99 non-null     bool   \n",
      " 13  date                         99 non-null     object \n",
      " 14  persons_mentioned            77 non-null     object \n",
      " 15  locations_mentioned          99 non-null     object \n",
      " 16  content                      99 non-null     object \n",
      " 17  access_right                 99 non-null     object \n",
      " 18  content_provider             99 non-null     object \n",
      " 19  is_content_available         99 non-null     bool   \n",
      " 20  [total:2705,available:2800]  0 non-null      float64\n",
      "dtypes: bool(2), float64(3), int64(4), object(12)\n",
      "memory usage: 15.0+ KB\n"
     ]
    }
   ],
   "source": [
    "df.info()"
   ]
  },
  {
   "cell_type": "code",
   "execution_count": 7,
   "id": "f037a858",
   "metadata": {},
   "outputs": [],
   "source": [
    "# Removing unecessary columns\n",
    "df.drop(['access_right', 'content_provider', 'is_content_available'], axis = 1, inplace=True)"
   ]
  },
  {
   "cell_type": "code",
   "execution_count": 8,
   "id": "f607564d",
   "metadata": {},
   "outputs": [
    {
     "name": "stdout",
     "output_type": "stream",
     "text": [
      "<class 'pandas.core.frame.DataFrame'>\n",
      "RangeIndex: 99 entries, 0 to 98\n",
      "Data columns (total 18 columns):\n",
      " #   Column                       Non-Null Count  Dtype  \n",
      "---  ------                       --------------  -----  \n",
      " 0   uid                          99 non-null     object \n",
      " 1   type                         0 non-null      float64\n",
      " 2   language                     99 non-null     object \n",
      " 3   title                        99 non-null     object \n",
      " 4   size                         99 non-null     int64  \n",
      " 5   country                      99 non-null     object \n",
      " 6   newspaper                    99 non-null     object \n",
      " 7   issue                        99 non-null     object \n",
      " 8   pages                        99 non-null     int64  \n",
      " 9   nb_pages                     99 non-null     int64  \n",
      " 10  relevance                    99 non-null     float64\n",
      " 11  year                         99 non-null     int64  \n",
      " 12  is_on_front                  99 non-null     bool   \n",
      " 13  date                         99 non-null     object \n",
      " 14  persons_mentioned            77 non-null     object \n",
      " 15  locations_mentioned          99 non-null     object \n",
      " 16  content                      99 non-null     object \n",
      " 17  [total:2705,available:2800]  0 non-null      float64\n",
      "dtypes: bool(1), float64(3), int64(4), object(10)\n",
      "memory usage: 13.4+ KB\n"
     ]
    }
   ],
   "source": [
    "df.info()"
   ]
  },
  {
   "cell_type": "code",
   "execution_count": 9,
   "id": "2d0dbdf7",
   "metadata": {},
   "outputs": [],
   "source": [
    "def iramuteq_format(df):\n",
    "    text = ''\n",
    "    for row in df.itertuples():\n",
    "        text += '**** *' + 'uid_' + str(row.uid) \\\n",
    "        + ' *np_' + str(row.newspaper) \\\n",
    "        + ' *year_' + str(row.year) \\\n",
    "        + ' *date_' + str(row.date) \\\n",
    "        + ' *size_' + str(row.size) \\\n",
    "        + '\\n'\\\n",
    "        + row.content\n",
    "    return text"
   ]
  },
  {
   "cell_type": "code",
   "execution_count": 10,
   "id": "8d9a52bd",
   "metadata": {},
   "outputs": [],
   "source": [
    "text = iramuteq_format(df)"
   ]
  },
  {
   "cell_type": "code",
   "execution_count": 11,
   "id": "fe23bc96",
   "metadata": {},
   "outputs": [],
   "source": [
    "fname = \"a9eeaf49-sample-iramuteq.txt\""
   ]
  },
  {
   "cell_type": "code",
   "execution_count": 12,
   "id": "8742d04e",
   "metadata": {},
   "outputs": [],
   "source": [
    "with open(os.path.join(\"../data\", fname), \"w\") as f:\n",
    "    f.write(text)"
   ]
  },
  {
   "cell_type": "code",
   "execution_count": null,
   "id": "f7a390a2",
   "metadata": {},
   "outputs": [],
   "source": []
  }
 ],
 "metadata": {
  "kernelspec": {
   "display_name": "Python 3 (ipykernel)",
   "language": "python",
   "name": "python3"
  },
  "language_info": {
   "codemirror_mode": {
    "name": "ipython",
    "version": 3
   },
   "file_extension": ".py",
   "mimetype": "text/x-python",
   "name": "python",
   "nbconvert_exporter": "python",
   "pygments_lexer": "ipython3",
   "version": "3.10.0"
  }
 },
 "nbformat": 4,
 "nbformat_minor": 5
}
