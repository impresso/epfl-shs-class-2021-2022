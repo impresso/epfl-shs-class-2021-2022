{
 "cells": [
  {
   "cell_type": "markdown",
   "id": "845d6d82",
   "metadata": {},
   "source": [
    "## Small example using Yet Another Keyword Extractor (Yake)\n",
    "\n",
    "https://github.com/LIAAD/yake"
   ]
  },
  {
   "cell_type": "code",
   "execution_count": 1,
   "id": "06b6cf08",
   "metadata": {},
   "outputs": [],
   "source": [
    "import yake\n",
    "from collections import namedtuple"
   ]
  },
  {
   "cell_type": "code",
   "execution_count": 8,
   "id": "870717be",
   "metadata": {},
   "outputs": [],
   "source": [
    "# input file\n",
    "gdl_1914 = \"../data/gdl_aout_1914.txt\""
   ]
  },
  {
   "cell_type": "code",
   "execution_count": 2,
   "id": "adc3fd7a",
   "metadata": {},
   "outputs": [],
   "source": [
    "# a data structure to hold the data\n",
    "Document  = namedtuple(\"Document\", [\"metadata\", \"text\", \"kws\"])"
   ]
  },
  {
   "cell_type": "code",
   "execution_count": 11,
   "id": "05961e53",
   "metadata": {},
   "outputs": [],
   "source": [
    "# storing the data based on the Document named tuple\n",
    "docs = []\n",
    "with open(gdl_1914, encoding=\"utf-8\") as f:\n",
    "    # take the two lines composing a doc (meta and text)\n",
    "    for meta, text in zip(f, f):\n",
    "        d = Document(meta, text, [])\n",
    "        docs.append(d)"
   ]
  },
  {
   "cell_type": "code",
   "execution_count": 5,
   "id": "d47af873",
   "metadata": {},
   "outputs": [
    {
     "name": "stdout",
     "output_type": "stream",
     "text": [
      "872\n"
     ]
    }
   ],
   "source": [
    "print(len(docs))"
   ]
  },
  {
   "cell_type": "code",
   "execution_count": 12,
   "id": "d03ad207",
   "metadata": {},
   "outputs": [],
   "source": [
    "# initiating the kw extractor\n",
    "kw_extractor = yake.KeywordExtractor(lan=\"fr\", n=2)"
   ]
  },
  {
   "cell_type": "code",
   "execution_count": 7,
   "id": "428da6ee",
   "metadata": {},
   "outputs": [
    {
     "name": "stdout",
     "output_type": "stream",
     "text": [
      "\n",
      " **** *page_1  *publi_gdl *date_01081914\n",
      "\n",
      "('abonnés Jfcn', 0.014189669303736979)\n",
      "('tle Berne', 0.014189669303736979)\n",
      "('Anos abonnés', 0.031024455093072348)\n",
      "(\"venteà t'Eaepn\", 0.04546445019777447)\n",
      "(\"t'Eaepn itionnationale\", 0.04546445019777447)\n",
      "\n",
      " **** *page_1  *publi_gdl *date_01081914\n",
      "\n",
      "(\"Mobilisation C'est\", 0.05690748081568746)\n",
      "(\"C'est\", 0.08893825902219157)\n",
      "('soyons', 0.12122065473691757)\n",
      "('août', 0.13777957317918513)\n",
      "('Mobilisation', 0.15135046989592174)\n",
      "\n",
      " **** *page_1  *publi_gdl *date_01081914\n",
      "\n",
      "('Suisse', 0.009713601975065916)\n",
      "(\"journée d'inquiétude\", 0.03724404879151172)\n",
      "('Serbie', 0.03752342873744621)\n",
      "('Triple Entente', 0.0379534067364991)\n",
      "('Serbie parce', 0.0428583411983199)\n",
      "\n",
      " **** *page_1  *publi_gdl *date_01081914\n",
      "\n",
      "('FEUILLETONDELA GAZETTE', 0.004537157252411313)\n",
      "('Paul ACKEB', 0.004537157252411313)\n",
      "('Mme Bertram', 0.004604720233167308)\n",
      "('Mme Volmer', 0.006118079570406024)\n",
      "('recette buraliste', 0.007738796198598956)\n",
      "\n",
      " **** *page_1  *publi_gdl *date_01081914\n",
      "\n",
      "('chevaux', 0.011157765202814229)\n",
      "('département militaire', 0.015231816174364005)\n",
      "('Conseil fédéral', 0.01569507199574937)\n",
      "('autorités militaires', 0.01665007576076822)\n",
      "('militaire', 0.02731962817574852)\n",
      "\n",
      " **** *page_1  *publi_gdl *date_01081914\n",
      "\n",
      "('couvertures imperméables', 0.023563507591084165)\n",
      "('chevaux', 0.04134914670821496)\n",
      "('couvertures', 0.05981750679920693)\n",
      "('mulets', 0.06293612207017785)\n",
      "(\"L'autorité communale\", 0.0838515198818019)\n",
      "\n",
      " **** *page_1  *publi_gdl *date_01081914\n",
      "\n",
      "('Compagnie III', 0.01199563834680415)\n",
      "('Compagnie', 0.021763685612043143)\n",
      "('place Perdtemps', 0.02333657569759076)\n",
      "('place', 0.029364845976742306)\n",
      "('III', 0.03611033338538985)\n",
      "\n",
      " **** *page_1  *publi_gdl *date_01081914\n",
      "\n",
      "('RÉDACTION ADMINISTRATION', 0.005518798910473096)\n",
      "('Rue Pépinet', 0.005518798910473096)\n",
      "('ADMINISTRATION BUREAU', 0.00697372912385471)\n",
      "(\"BUREAU D'ABONNEMENTS\", 0.046489449143058324)\n",
      "(\"D'ABONNEMENTS Rue\", 0.046489449143058324)\n",
      "\n",
      " **** *page_1  *publi_gdl *date_01081914\n",
      "\n",
      "('HAASENSTEIN VOGLER', 0.008520579762039938)\n",
      "('VOGLER LAUSANNE', 0.008520579762039938)\n",
      "('ANNONCES Agence', 0.01978853323673793)\n",
      "('publicité HAASENSTEIN', 0.02085297675518338)\n",
      "('Agence', 0.09191622736362164)\n",
      "\n",
      " **** *page_1  *publi_gdl *date_01081914\n",
      "\n",
      "('JOURNAL SUISSE', 0.02140921543860024)\n",
      "('SUISSE FONDÉE', 0.02140921543860024)\n",
      "('JOURNAL', 0.1447773057422032)\n",
      "('SUISSE', 0.1447773057422032)\n",
      "('FONDÉE', 0.1447773057422032)\n"
     ]
    }
   ],
   "source": [
    "# looping through the doc\n",
    "for d in docs[:10]:\n",
    "  print(\"\\n\", d.metadata)\n",
    "  keywords = kw_extractor.extract_keywords(d.text)\n",
    "  for k in keywords[:5]: # keeping only the 5 top kw\n",
    "      print(k)"
   ]
  },
  {
   "cell_type": "code",
   "execution_count": null,
   "id": "8c88305e",
   "metadata": {},
   "outputs": [],
   "source": []
  }
 ],
 "metadata": {
  "kernelspec": {
   "display_name": "Python 3 (ipykernel)",
   "language": "python",
   "name": "python3"
  },
  "language_info": {
   "codemirror_mode": {
    "name": "ipython",
    "version": 3
   },
   "file_extension": ".py",
   "mimetype": "text/x-python",
   "name": "python",
   "nbconvert_exporter": "python",
   "pygments_lexer": "ipython3",
   "version": "3.10.0"
  }
 },
 "nbformat": 4,
 "nbformat_minor": 5
}
